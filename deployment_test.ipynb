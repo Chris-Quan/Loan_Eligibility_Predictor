{
 "cells": [
  {
   "cell_type": "code",
   "execution_count": 88,
   "metadata": {},
   "outputs": [
    {
     "name": "stdout",
     "output_type": "stream",
     "text": [
      "\"loan not approved\"\n",
      "\n"
     ]
    }
   ],
   "source": [
    "import requests as r\n",
    "import pandas as pd\n",
    "import json\n",
    "\n",
    "\n",
    "base_url = 'http://ec2-54-92-205-13.compute-1.amazonaws.com:5555/' #base url local host\n",
    "\n",
    "json_data=  {'Gender': 'Male',\n",
    " 'Married': 'No',\n",
    " 'Dependents': 0,\n",
    " 'Education': 'Not Graduate',\n",
    " 'Self_Employed': 'No',\n",
    " 'Credit_History': 0,\n",
    " 'Property_Area': 'Semiurban',\n",
    " 'log_combined_income': np.log(3358),\n",
    " 'log_LoanAmount': np.log(80),\n",
    " }\n",
    "\n",
    "\n",
    "\n",
    "response = r.post(base_url + \"/LoanRequest\", json = json_data)\n",
    "print(response.text)"
   ]
  }
 ],
 "metadata": {
  "kernelspec": {
   "display_name": "base",
   "language": "python",
   "name": "python3"
  },
  "language_info": {
   "codemirror_mode": {
    "name": "ipython",
    "version": 3
   },
   "file_extension": ".py",
   "mimetype": "text/x-python",
   "name": "python",
   "nbconvert_exporter": "python",
   "pygments_lexer": "ipython3",
   "version": "3.9.13"
  },
  "vscode": {
   "interpreter": {
    "hash": "df3f64ca5e16a52414df56f6fd8e5b33b60cd9e67139926ade6a9b44fe3fa7c2"
   }
  }
 },
 "nbformat": 4,
 "nbformat_minor": 4
}
